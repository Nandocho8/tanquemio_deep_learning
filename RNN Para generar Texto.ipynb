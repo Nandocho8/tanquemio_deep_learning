{
 "cells": [
  {
   "cell_type": "markdown",
   "metadata": {
    "id": "tiPOPIwuuc_o"
   },
   "source": [
    "<a class=\"anchor\" id=\"0\"></a>\n",
    "#RNN con Keras\n",
    "\n",
    "Ejemplo b&aacute;sico de una RNN con Keras para generar texto."
   ]
  },
  {
   "cell_type": "code",
   "execution_count": null,
   "metadata": {
    "colab": {
     "base_uri": "https://localhost:8080/"
    },
    "id": "v24dXssaqp2A",
    "outputId": "e26186e2-117c-4937-b644-754b0ab84ea5",
    "tags": []
   },
   "outputs": [],
   "source": [
    "from google.colab import drive\n",
    "drive.mount('/content/drive')"
   ]
  },
  {
   "cell_type": "code",
   "execution_count": null,
   "metadata": {
    "tags": []
   },
   "outputs": [],
   "source": [
    "# Importar TensorFlow y verificar su versión\n",
    "import tensorflow as tf\n",
    "print(\"Versión de TensorFlow:\", tf.__version__)"
   ]
  },
  {
   "cell_type": "code",
   "execution_count": null,
   "metadata": {
    "id": "ii_ccCB9uc_w",
    "tags": []
   },
   "outputs": [],
   "source": [
    "import numpy as np\n",
    "import pandas as pd\n",
    "from __future__ import print_function\n",
    "#from keras.layers.recurrent import SimpleRNN #-> Capa RNN Simple\n",
    "#from keras.models import Sequential  #-> Modelo Secuencial\n",
    "#from keras.layers import Dense, Activation\n",
    "\n",
    "#Vamos a subir el archivo \"wonderland.txt\"\n",
    "#Alicia en el pais de las maravillas\n",
    "#Nos va a servir para entrenar nuestra red\n",
    "\n",
    "#from google.colab import files\n",
    "\n",
    "#archivos = files.upload()\n",
    "\n",
    "\n",
    "\n",
    "\n",
    "\n",
    "# Importaciones específicas de Keras desde TensorFlow\n",
    "from tensorflow.keras.layers.recurrent import SimpleRNN #-> Capa RNN Simple\n",
    "from tensorflow.keras.models import Sequential\n",
    "from tensorflow.keras.layers import SimpleRNN, Dense, Activation"
   ]
  },
  {
   "cell_type": "code",
   "execution_count": null,
   "metadata": {
    "id": "9HClnsM0uc_x"
   },
   "outputs": [],
   "source": [
    "def setUpTrainDataFromTxt(INPUT_FILE, SEQLEN, STEP):\n",
    "    text=\"\"\n",
    "\n",
    "    for archivo in INPUT_FILE:\n",
    "      print(\"Leyendo archivo \", archivo)\n",
    "      fin = open(archivo, 'rb') #-> r = abrir para lectura (read) | b = abrir en modo binario\n",
    "      lines = []\n",
    "      for line in fin:\n",
    "          line = line.strip().lower()\n",
    "          line = line.decode(\"ascii\", \"ignore\")\n",
    "          if len(line) == 0:\n",
    "              continue\n",
    "          lines.append(line)  #-> Se lee linea a linea y se \"Anexa\" a string\n",
    "      fin.close()\n",
    "      text = text + \" \".join(lines)\n",
    "      print(\"cantidad lineas\", len(lines))\n",
    "      print(\"largo texto\", len(text))\n",
    "\n",
    "\n",
    "    #Se arma una RNN a nivel de caracteres (letras)\n",
    "    #Usaremos los caracteres del texto, ese es nuestra muestra\n",
    "\n",
    "    #Se trabajara con los indices ASCII\n",
    "\n",
    "    # Creamos las tablas de datos y su caracter\n",
    "    chars = set([c for c in text])\n",
    "    nb_chars = len(chars) #-> Numero de caracteres distintos en el texto\n",
    "    char2index = dict((c, i) for i, c in enumerate(chars))\n",
    "    index2char = dict((i, c) for i, c in enumerate(chars))\n",
    "\n",
    "    # creamos los inputs y sus labels desde el texto.\n",
    "    #Letra a letra (una a la vez)\n",
    "    #Por cada caracter (paso ${step}), extraemos una secuencia de largo ${seqlen}\n",
    "\n",
    "    #Ejemplo, asumiento que el input es \"The sky was falling\", obtendremos la siguiente secuencia\n",
    "    #   The sky wa -> s\n",
    "    #   he sky was ->  \n",
    "    #   e sky was  -> f\n",
    "    #    sky was f -> a\n",
    "    #   sky was fa -> l\n",
    "    input_chars = []\n",
    "    label_chars = []\n",
    "    for i in range(0, len(text) - SEQLEN, STEP):\n",
    "        input_chars.append(text[i:i + SEQLEN])\n",
    "        label_chars.append(text[i + SEQLEN])  \n",
    "\n",
    "    # Vectorizamos los datos y las etiquetas con 1-hot encoding\n",
    "\n",
    "    X = np.zeros((len(input_chars), SEQLEN, nb_chars), dtype=np.bool)\n",
    "    y = np.zeros((len(input_chars), nb_chars), dtype=np.bool)\n",
    "    for i, input_char in enumerate(input_chars):\n",
    "        for j, ch in enumerate(input_char):\n",
    "            X[i, j, char2index[ch]] = 1\n",
    "        y[i, char2index[label_chars[i]]] = 1\n",
    "\n",
    "    return X, y, nb_chars, input_chars, label_chars, char2index, index2char"
   ]
  },
  {
   "cell_type": "code",
   "execution_count": null,
   "metadata": {
    "colab": {
     "base_uri": "https://localhost:8080/"
    },
    "id": "Id_3Q1K8uc_y",
    "outputId": "a5969274-8280-4133-fedc-0bd0a50d2db5"
   },
   "outputs": [],
   "source": [
    "INPUT_FILE = []\n",
    "INPUT_FILE.append(\"/content/drive/MyDrive/Coordinación Linea/2022S1/DLY0100/Semana 11/RNN Para generar texto/quijote.txt\")\n",
    "INPUT_FILE.append(\"/content/drive/MyDrive/Coordinación Linea/2022S1/DLY0100/Semana 11/RNN Para generar texto/donjuantenorio.txt\")\n",
    "INPUT_FILE.append(\"/content/drive/MyDrive/Coordinación Linea/2022S1/DLY0100/Semana 11/RNN Para generar texto/ladivinacomedia.txt\")\n",
    "\n",
    "SEQLEN = 10\n",
    "STEP = 1\n",
    "\n",
    "X, y, nb_chars, input_chars, label_chars, char2index, index2char = setUpTrainDataFromTxt(INPUT_FILE, SEQLEN, STEP)"
   ]
  },
  {
   "cell_type": "code",
   "execution_count": null,
   "metadata": {
    "id": "qKet_MVLuc_0"
   },
   "outputs": [],
   "source": [
    "# Modelo. SingleRNN con una capa fully connected para calcular la predicción\n",
    "\n",
    "HIDDEN_SIZE = 128\n",
    "BATCH_SIZE = 128\n",
    "NUM_ITERATIONS = 25\n",
    "NUM_EPOCHS_PER_ITERATION = 1\n",
    "NUM_PREDS_PER_EPOCH = 100\n",
    "\n",
    "model = Sequential()\n",
    "model.add(\n",
    "    SimpleRNN(\n",
    "        HIDDEN_SIZE, \n",
    "        return_sequences=False,\n",
    "                                        #-> Numero de caracteres distintos en el texto\n",
    "        input_shape=(SEQLEN, nb_chars), #-> Las cadenas de entrenamiento son de 10 \n",
    "        unroll=True)\n",
    "    )\n",
    "model.add(Dense(nb_chars))\n",
    "model.add(Activation(\"softmax\"))\n",
    "\n",
    "model.compile(\n",
    "    loss=\"categorical_crossentropy\",\n",
    "    optimizer=\"rmsprop\"\n",
    "    )"
   ]
  },
  {
   "cell_type": "code",
   "execution_count": null,
   "metadata": {
    "colab": {
     "base_uri": "https://localhost:8080/",
     "height": 606
    },
    "id": "W_WnQWq2uc_1",
    "outputId": "a50298bd-cc28-4746-a9bb-277d4d1d266f"
   },
   "outputs": [],
   "source": [
    "# Entrenamos el modelo en n iteraciones y probamos la salida en cada iteración\n",
    "\n",
    "for iteration in range(NUM_ITERATIONS):\n",
    "    print(\"=\" * 50)\n",
    "    print(\"Iteración #: %d\" % (iteration))\n",
    "    \n",
    "    #Entrenamiento de la iteración\n",
    "    model.fit(X, y, \n",
    "              batch_size=BATCH_SIZE, \n",
    "              epochs=NUM_EPOCHS_PER_ITERATION)\n",
    "    \n",
    "    # test de la iteración\n",
    "    #en base a una semilla (texto inicial), generamos una salida\n",
    "    test_idx = np.random.randint(len(input_chars))\n",
    "    test_chars = input_chars[test_idx]\n",
    "    \n",
    "    print(\"Generando texto de la salida: %s\" % (test_chars))\n",
    "    print(test_chars, end=\"\")\n",
    "\n",
    "    for i in range(NUM_PREDS_PER_EPOCH):\n",
    "        Xtest = np.zeros((1, SEQLEN, nb_chars))\n",
    "        for i, ch in enumerate(test_chars):   #-> Codificamos los caracteres\n",
    "            Xtest[0, i, char2index[ch]] = 1\n",
    "        pred = model.predict(Xtest, verbose=0)[0]\n",
    "        ypred = index2char[np.argmax(pred)] #-> Decodificamos la predicción\n",
    "        print(ypred, end=\"\")\n",
    "        \n",
    "        test_chars = test_chars[1:] + ypred\n",
    "    print()\n"
   ]
  }
 ],
 "metadata": {
  "colab": {
   "collapsed_sections": [],
   "name": "RNN Para generar Texto.ipynb",
   "provenance": []
  },
  "kernelspec": {
   "display_name": "Python 3 (ipykernel)",
   "language": "python",
   "name": "python3"
  },
  "language_info": {
   "codemirror_mode": {
    "name": "ipython",
    "version": 3
   },
   "file_extension": ".py",
   "mimetype": "text/x-python",
   "name": "python",
   "nbconvert_exporter": "python",
   "pygments_lexer": "ipython3",
   "version": "3.11.5"
  }
 },
 "nbformat": 4,
 "nbformat_minor": 4
}
